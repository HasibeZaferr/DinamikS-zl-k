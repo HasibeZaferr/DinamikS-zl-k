{
  "nbformat": 4,
  "nbformat_minor": 0,
  "metadata": {
    "colab": {
      "name": "Untitled2.ipynb",
      "version": "0.3.2",
      "provenance": [],
      "include_colab_link": true
    },
    "kernelspec": {
      "name": "python3",
      "display_name": "Python 3"
    }
  },
  "cells": [
    {
      "cell_type": "markdown",
      "metadata": {
        "id": "view-in-github",
        "colab_type": "text"
      },
      "source": [
        "<a href=\"https://colab.research.google.com/github/HasibeZaferr/DynamicDictionaryWithPython/blob/master/dynamicdictionary.ipynb\" target=\"_parent\"><img src=\"https://colab.research.google.com/assets/colab-badge.svg\" alt=\"Open In Colab\"/></a>"
      ]
    },
    {
      "metadata": {
        "id": "e4LDKp67WJg7",
        "colab_type": "code",
        "colab": {
          "base_uri": "https://localhost:8080/",
          "height": 1320
        },
        "outputId": "43e352a0-5741-437d-c964-fa6f3f471fad"
      },
      "cell_type": "code",
      "source": [
        "import csv\n",
        "from IPython.display import clear_output\n",
        "\n",
        "\n",
        "filename = 'dictionary.csv'\n",
        "dic = {}\n",
        "\n",
        "def listeyi_doldur():\n",
        "    try:\n",
        "      reader = csv.reader(open(filename, 'r'))\n",
        "     \n",
        "      for satir in reader:\n",
        "        ingilizce, turkce = satir\n",
        "        dic[ingilizce] = turkce\n",
        "    except FileNotFoundError:\n",
        "      open(filename, \"x\")\n",
        "\n",
        "      \n",
        "def kaydet():\n",
        "  w = csv.writer(open(filename, \"w\"))\n",
        "  for ingilizce, turkce in dic.items():\n",
        "    w.writerow([ingilizce, turkce])\n",
        "    \n",
        "def listele():\n",
        "  print(\"***************************************************\")\n",
        "  print(\"************************SÖZLÜK********************* \\n\")\n",
        "  for ingilizce, turkce in dic.items():\n",
        "      print(\"{} kelimesinin Türkçesi: {}\".format(ingilizce,turkce))\n",
        "  print(\"\\n***************************************************\")\n",
        "  print(\"***************************************************\")\n",
        "\n",
        "def arama(): \n",
        "    x= True\n",
        "    while x:\n",
        "      print(\"Sözlükte aranacak kelimeyi giriniz\")\n",
        "      x = input()\n",
        "      if x in dic:\n",
        "        print(\"{} kelimesinin Türkçesi: {}\".format(x,dic[x]))\n",
        "      else:\n",
        "        print(\"Bu kelime sözlükte yok. Sözlüğe eklemek ister misiniz? E / H\")\n",
        "\n",
        "        cevap = input()\n",
        "        if(cevap==\"E\" or cevap==\"e\"):\n",
        "          print(\"Yeni kelimenin Türkçesini giriniz\")\n",
        "          yenikelimeturkce = input()\n",
        "          kaydet()\n",
        "          print(\"Yeni Kelime sözlüğe eklendi \\n \")\n",
        "          dic[x] = yenikelimeturkce\n",
        "          x=False\n",
        "\n",
        "        else:\n",
        "          x=False\n",
        "  \n",
        "def cikis():\n",
        "  print(\"Çıkış yapıldı\")\n",
        "  clear_output()\n",
        "  j=False\n",
        "\n",
        "\n",
        "def main():\n",
        "  listeyi_doldur()\n",
        "  j=True\n",
        "  while j:\n",
        "    print(\"Sözlüğü listelemek için L: \\nAramak için A: \\nÇıkmak için E basınız: \\n\")\n",
        "    istek = input()\n",
        "\n",
        "    if istek==\"A\" or istek==\"a\":\n",
        "      arama()\n",
        "    elif istek==\"L\" or istek==\"l\":\n",
        "      listele()\n",
        "    elif istek==\"E\" or \"e\":\n",
        "      cikis()     \n",
        "  \n",
        "if __name__== \"__main__\":\n",
        "  main()"
      ],
      "execution_count": 1,
      "outputs": [
        {
          "output_type": "stream",
          "text": [
            "Sözlüğü listelemek için L: \n",
            "Aramak için A: \n",
            "Çıkmak için E basınız: \n",
            "\n",
            "l\n",
            "***************************************************\n",
            "************************SÖZLÜK********************* \n",
            "\n",
            "home kelimesinin Türkçesi: ev\n",
            "friend kelimesinin Türkçesi: arkadaş\n",
            "\n",
            "***************************************************\n",
            "***************************************************\n",
            "Sözlüğü listelemek için L: \n",
            "Aramak için A: \n",
            "Çıkmak için E basınız: \n",
            "\n"
          ],
          "name": "stdout"
        },
       
      ]
    }
  ]
}
